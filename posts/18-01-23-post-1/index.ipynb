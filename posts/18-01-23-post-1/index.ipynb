{
  "cells": [
    {
      "attachments": {},
      "cell_type": "markdown",
      "metadata": {},
      "source": [
        "---\n",
        "title: \"Constructing a Neural-Net Digit Classifier (Almost) from Scratch\"\n",
        "format:\n",
        "  html:\n",
        "    html-math-method: mathjax\n",
        "---"
      ]
    },
    {
      "cell_type": "code",
      "execution_count": 57,
      "metadata": {
        "id": "I_KLzVQOQBpy"
      },
      "outputs": [],
      "source": [
        "#| echo: false\n",
        "#| output: false\n",
        "import fastbook\n",
        "fastbook.setup_book()"
      ]
    },
    {
      "cell_type": "code",
      "execution_count": 58,
      "metadata": {
        "id": "h5JxqNbxQBp4"
      },
      "outputs": [],
      "source": [
        "#| echo: false\n",
        "#| output: false\n",
        "from fastai.vision.all import *\n",
        "from fastbook import *\n",
        "\n",
        "matplotlib.rc('image', cmap='Greys')"
      ]
    },
    {
      "attachments": {},
      "cell_type": "markdown",
      "metadata": {
        "id": "3gUchgAwQBp5"
      },
      "source": [
        "# Introduction and Summary "
      ]
    },
    {
      "attachments": {},
      "cell_type": "markdown",
      "metadata": {
        "id": "xgR6ERt9QBp7"
      },
      "source": [
        "In this post, I am basically adapting Chapter 4 of the fast.ai book to extend the 3/7 classifier into a digit classifier for all digits.\n",
        "Just as in the book, I'm going to use the MNIST data set.\n",
        "The biggest struggles in constructing this classifier were in deciding the loss function in the multi-class case and finding a good learning rate.\n",
        "What ate up the most time in this project, though, was working with pyTorch tensors.\n",
        "I would frequently have to change tensors of shape (1,10) to tensors of shape (10) and vice versa.\n",
        "This was a headache; perhaps it would behoove me to learn a bit more about pyTorch's defaults and conversions.\n",
        "I've ordered a book to help me with that.\n",
        "\n",
        "It actually turned out that reading Chapter 5 of the book gave me a lot of the tools I needed to finish this little project.\n",
        "Before I read the chapter, I was on the right track by computing softmax activations and the likelihoods for each individual observation, but instead of computing the overall likelihood for the loss function, I took the mean likelihood across all observations, which isn't as natural a quantity to compute.\n",
        "Finally, I was missing the step of taking the log, which doesn't change the mathematical structure of the optimization problem, but I think it has numerical consequences."
      ]
    },
    {
      "cell_type": "markdown",
      "metadata": {},
      "source": [
        "## Aside: What is the cross-entropy/negative-log-likelihood? What is the learning rate?"
      ]
    },
    {
      "attachments": {},
      "cell_type": "markdown",
      "metadata": {},
      "source": [
        "Let's describe what happens in machine learning.\n",
        "We are given a collection of inputs and outputs $\\{x_i,y_i\\}$ that are supposed to be related to each other in some way.\n",
        "For example, each $x_i$ could be the data of an image (the RGB coordinates of each of its pixels) and $y_i$ could be the digit that the image is supposed to represent.\n",
        "There is supposed to be an abstract relationship between the $x_i$ and $y_i$ and we have a particular noisy sample of such inputs and outputs.\n",
        "Our goal is to construct a model $M$, whose job is to take in an input $x$ and and \"spit out\" an output $M(x)$.\n",
        "Now, we better hope that $M(x_i)$ is (in some way) as close to $y_i$ as possible, since the model needs to be able to predict the actual data we fed into it (but also we want to prevent the model from overgeneralizing features of the particular data set we have fed it!).\n",
        "An important thing that I've neglected to mention is that $M$ itself is usually part of a family of models, each parametrized by a set of weights, for which I will use the single letter $w$.\n",
        "So, more properly, we have a collection of predictions $M(w,x)$, one for each value of the parameters $w$ (we consider $x$ to be fixed for now).\n",
        "I've learned that the name for the family of models is called the *architecture* of the model.\n",
        "A large fraction of machine learning consists of choosing an appropriate architecture for your problem: you want an architecture flexible enough to find the relationships between inputs and outputs, but not one that is so flexible as to find spurious relationships particular only to the data set you train your model on.\n",
        "\n",
        "Ok, so how do we describe which value of $w$ is \"best\"?\n",
        "We need to measure \"how far off\" $M(w,x_i)$ is from $y_i$, and aggregate all this information somehow.\n",
        "One way to do this is to just compute the average accuracy of the predictions $M(w,x_i)$.\n",
        "The problem is the following: if $w$ and $x_i$ are continuous (numerical) data types, and our output $y_i$ is a discrete data type (which it is in classification problems like the one we're considering), and--- finally---$M(w,x)$ is continuous (or nearly so) with respect to its parameters, then it's \"generically\" impossible to improve the accuracy of the predictions just by tweaking the weights $w$ a little bit.\n",
        "But this is pretty much the main way that we can have a computer optimize things: by slightly tweaking the parameters and seeing which small change of parameters improves our desired metric the most.\n",
        "(The name for this tweaking process is gradient descent.)\n",
        "\n",
        "So, instead of just predicting the class that each $x_i$ belongs to, we can ask our model to also assign probabilities to those class predictions. So, suppose that we have $N$ different classes (in other words that each $y_i$ is whole number between 1 and $N$), and we provide $N$ functions $P_1(w,x),\\ldots, P_j(w,x),\\ldots, P_N(w,x)$ which represent the probabilities that the model corresponding to $w$ assigns to a given input $x$ producing each of the $N$ possible outputs.\n",
        "Since these are probabilities, we need to have $$ P_1(w,x)+P_2(w,x)+\\cdots+P_N(w,x)=1$$ and each $P_j$ needs to be non-negative for all $w$ and $x$.\n",
        "(In math, we say that the functions $\\{P_j\\}$ provides a function from the space $S$ of parameters and input variables to the $(N-1)$-simplex $\\Delta^{N-1}$)\n",
        "Finally, we can simply set $M(w,x)= \\max_{j}P_j(w,x)$.\n",
        "The beauty of this approach is that now we can more readily measure how good the model $M$ is, and this is called the *likelihood* function.\n",
        "What it does is tell us how likely our model says the observed data set is.\n",
        "Assuming that each data point is an independent probabilistic event, we simply multiply the likelihood associated in our model that the output is $y_i$ given $x_i$, i.e., we form $$L(w)= \\prod_{i} P_{y_i}(w,x_i).$$\n",
        "$L(w)$ (conceived of as a function of the parameters $w$) is something that we can seek to optimize, since if the $P$'s have reasonable behavior (e.g. smoothness or continuity), so too will $L(w)$.\n",
        "In practice, we optimize $\\log(L(w))$ instead.\n",
        "As far as I understand it, this is because since all the probabilities $P_{y_i}$ are less than 1, and there may be thousands that we multiply together, the likelihood will be a very small number, and so it will be hard to detect (given finite precision) improvements in the likelihood.\n",
        "\n",
        "Now, usually, we have many smart ways of producing a collection of $N$ functions of the parameters and inputs, but we still need to make sure that they are all non-negative and sum to 1.\n",
        "That's the purpose of the softmax function, which is a map $\\mathbb{R}^N \\to \\Delta^{N-1}$ (it's essentially the simplest such function).\n",
        "I won't get into the details of that here.\n",
        "\n",
        "Ok, so now we have a task: given this particular form of $L(w)$, find the $w$ which will minimize $-\\log(L(w))$ (which we now call the *loss function*), or at least give us a resonable approximation to the minimum.\n",
        "This amounts to following a path in the parameter space whose tangent vector is the opposite vector of the gradient.\n",
        "The way this is typically done is to randomly choose some starting weights $w_0$ and then replace $w_0$ with $w_0 + \\eta \\nabla_{w}\\log(L(w_0))$, where $\\eta$ is some small \"step size\" or \"learning rate\".\n",
        "Then we iterate the process until we are reasonably convinced we're close to a minimum.\n",
        "Only in the limit $\\eta\\to 0$ is this completely accurate as way to find the minima.\n",
        "So the smaller $\\eta$ is, the more likely we will be to find the minimum of the loss function.\n",
        "But since $\\eta$ is small, if we start with $w_0$ far from the actual minimum, our hair might grow very long while we wait for the iterative process of updating the parameters to bring about meaningful reductions of the loss.\n",
        "So in practice we have to tweak $\\eta$ to give reasonable enough results subject to our time/resource constraints.\n",
        "I messed around a bit with learning rates and found that .1 was a sufficiently middle-ground learning rate.\n",
        "\n",
        "Finally, I want to mention that in practice, instead of doing full gradient descent, we take advantage of the particular structure of the loss function to do something more computationally feasible.\n",
        "Because the likelihood is the product of contributions from each separate data point $(x_i,y_i)$, the loss function is a sum of such contributions.\n",
        "In each update to the parameters, we can replace the full loss function with the corresponding sum of contributions from a random subset of the full data set.\n",
        "This is called *stochastic gradient descent*, and I think it makes the gradient descent process more computationally feasible.\n",
        "And I think the idea is also that it allows us to quickly identify which parameters have the greatest effect on the loss without wasting the resources to compute the full loss.\n",
        "\n",
        "\n"
      ]
    },
    {
      "attachments": {},
      "cell_type": "markdown",
      "metadata": {
        "id": "x3Dni0MRQBp9"
      },
      "source": [
        "# Unpacking the Data"
      ]
    },
    {
      "attachments": {},
      "cell_type": "markdown",
      "metadata": {},
      "source": [
        "We untar the MNIST data set from the fastai library, and name the resulting Path object `path`."
      ]
    },
    {
      "cell_type": "code",
      "execution_count": 59,
      "metadata": {
        "colab": {
          "base_uri": "https://localhost:8080/",
          "height": 37
        },
        "id": "FEUzszcFQBqA",
        "outputId": "ee551574-ca2e-40c7-9808-3b82da1fb6b1"
      },
      "outputs": [],
      "source": [
        "#| output: false\n",
        "path = untar_data(URLs.MNIST)"
      ]
    },
    {
      "cell_type": "code",
      "execution_count": 60,
      "metadata": {
        "id": "GtOjVDQsQBqB"
      },
      "outputs": [],
      "source": [
        "#| echo: false\n",
        "#| hide: false\n",
        "Path.BASE_PATH = path"
      ]
    },
    {
      "attachments": {},
      "cell_type": "markdown",
      "metadata": {},
      "source": [
        "We see that the directory consists of a \"testing\" and \"training\" folder."
      ]
    },
    {
      "cell_type": "code",
      "execution_count": 61,
      "metadata": {
        "colab": {
          "base_uri": "https://localhost:8080/"
        },
        "id": "9z7zXn7nQBqB",
        "outputId": "8cf40ed7-0aff-4d47-bfb1-910861599f4f"
      },
      "outputs": [
        {
          "data": {
            "text/plain": [
              "(#2) [Path('training'),Path('testing')]"
            ]
          },
          "execution_count": 61,
          "metadata": {},
          "output_type": "execute_result"
        }
      ],
      "source": [
        "path.ls()"
      ]
    },
    {
      "attachments": {},
      "cell_type": "markdown",
      "metadata": {},
      "source": [
        "Within the training folder, there is one folder for each digit."
      ]
    },
    {
      "cell_type": "code",
      "execution_count": 62,
      "metadata": {
        "colab": {
          "base_uri": "https://localhost:8080/"
        },
        "id": "6BMQJ7t2QBqC",
        "outputId": "dcf47a60-2c0b-4fd8-8d8f-44770c1d7f5a"
      },
      "outputs": [
        {
          "data": {
            "text/plain": [
              "(#10) [Path('training/9'),Path('training/0'),Path('training/7'),Path('training/6'),Path('training/1'),Path('training/8'),Path('training/4'),Path('training/3'),Path('training/2'),Path('training/5')]"
            ]
          },
          "execution_count": 62,
          "metadata": {},
          "output_type": "execute_result"
        }
      ],
      "source": [
        "(path/'training').ls()"
      ]
    },
    {
      "attachments": {},
      "cell_type": "markdown",
      "metadata": {},
      "source": [
        "The list `nums` has ten entries. Each entry is the list of all the file names corresponding to the respective digit."
      ]
    },
    {
      "cell_type": "code",
      "execution_count": 63,
      "metadata": {
        "id": "bakxCcF1QBqD"
      },
      "outputs": [],
      "source": [
        "nums = [(path/'training'/str(i)).ls() for i in range(10)]"
      ]
    },
    {
      "attachments": {},
      "cell_type": "markdown",
      "metadata": {
        "id": "v8OY8rnQQBqK"
      },
      "source": [
        "# L1 Distance to the Mean Digits"
      ]
    },
    {
      "attachments": {},
      "cell_type": "markdown",
      "metadata": {
        "id": "G1-pnByKQBqK"
      },
      "source": [
        "In this section, we compute the mean image for each digit, and then assess the accuracy of the model which assigns to each image the digit whose mean image is closest in L1 norm to the given image."
      ]
    },
    {
      "attachments": {},
      "cell_type": "markdown",
      "metadata": {},
      "source": [
        "We form a two-dimensional array of Tensors; the first dimension corresponds to a digit, and the second dimension identifies a particular image."
      ]
    },
    {
      "cell_type": "code",
      "execution_count": 64,
      "metadata": {
        "id": "nrofQJEWQBqL"
      },
      "outputs": [],
      "source": [
        "num_tensors = [[tensor(Image.open(o)) for o in nums[i]] for i in range(10)]\n"
      ]
    },
    {
      "cell_type": "code",
      "execution_count": 65,
      "metadata": {
        "colab": {
          "base_uri": "https://localhost:8080/"
        },
        "id": "jAHA2DHOnSEA",
        "outputId": "56a1ae64-5c2a-4874-977f-f3899cec923b"
      },
      "outputs": [
        {
          "data": {
            "text/plain": [
              "(10, 5958)"
            ]
          },
          "execution_count": 65,
          "metadata": {},
          "output_type": "execute_result"
        }
      ],
      "source": [
        "len(num_tensors), len(num_tensors[2])"
      ]
    },
    {
      "attachments": {},
      "cell_type": "markdown",
      "metadata": {},
      "source": [
        "Instead of having a list of tensors for each digit, we stack all the tensors for a given digit into a single Tensor."
      ]
    },
    {
      "cell_type": "code",
      "execution_count": 66,
      "metadata": {
        "colab": {
          "base_uri": "https://localhost:8080/"
        },
        "id": "SFWuEMwiQBqM",
        "outputId": "9e966624-5a74-4aab-d90e-332498f3d402"
      },
      "outputs": [
        {
          "data": {
            "text/plain": [
              "torch.Size([5958, 28, 28])"
            ]
          },
          "execution_count": 66,
          "metadata": {},
          "output_type": "execute_result"
        }
      ],
      "source": [
        "stacks = [torch.stack(num_tensors[i]).float()/255 for i in range(10)]\n",
        "stacks[2].shape"
      ]
    },
    {
      "attachments": {},
      "cell_type": "markdown",
      "metadata": {},
      "source": [
        "We compute and display the mean images. It's kind of cool to see the fuzzy gray signifying different slants to vertical components of digits, say in 1, 4, and 9."
      ]
    },
    {
      "cell_type": "code",
      "execution_count": 67,
      "metadata": {
        "colab": {
          "base_uri": "https://localhost:8080/",
          "height": 876
        },
        "id": "_oV6LbBOQBqN",
        "outputId": "5c1c2fbc-b2ba-4558-cefd-64e94c131c68"
      },
      "outputs": [
        {
          "data": {
            "text/plain": [
              "[<AxesSubplot: >,\n",
              " <AxesSubplot: >,\n",
              " <AxesSubplot: >,\n",
              " <AxesSubplot: >,\n",
              " <AxesSubplot: >,\n",
              " <AxesSubplot: >,\n",
              " <AxesSubplot: >,\n",
              " <AxesSubplot: >,\n",
              " <AxesSubplot: >,\n",
              " <AxesSubplot: >]"
            ]
          },
          "execution_count": 67,
          "metadata": {},
          "output_type": "execute_result"
        },
        {
          "data": {
            "image/png": "[encoded data removed]",
            "text/plain": [
              "<Figure size 100x100 with 1 Axes>"
            ]
          },
          "metadata": {},
          "output_type": "display_data"
        },
        {
          "data": {
            "image/png": "[encoded data removed]",
            "text/plain": [
              "<Figure size 100x100 with 1 Axes>"
            ]
          },
          "metadata": {},
          "output_type": "display_data"
        },
        {
          "data": {
            "image/png": "[encoded data removed]",
            "text/plain": [
              "<Figure size 100x100 with 1 Axes>"
            ]
          },
          "metadata": {},
          "output_type": "display_data"
        },
        {
          "data": {
            "image/png": "[encoded data removed]",
            "text/plain": [
              "<Figure size 100x100 with 1 Axes>"
            ]
          },
          "metadata": {},
          "output_type": "display_data"
        },
        {
          "data": {
            "image/png": "[encoded data removed]",
            "text/plain": [
              "<Figure size 100x100 with 1 Axes>"
            ]
          },
          "metadata": {},
          "output_type": "display_data"
        },
        {
          "data": {
            "image/png": "[encoded data removed]",
            "text/plain": [
              "<Figure size 100x100 with 1 Axes>"
            ]
          },
          "metadata": {},
          "output_type": "display_data"
        },
        {
          "data": {
            "image/png": "[encoded data removed]",
            "text/plain": [
              "<Figure size 100x100 with 1 Axes>"
            ]
          },
          "metadata": {},
          "output_type": "display_data"
        },
        {
          "data": {
            "image/png": "[encoded data removed]",
            "text/plain": [
              "<Figure size 100x100 with 1 Axes>"
            ]
          },
          "metadata": {},
          "output_type": "display_data"
        },
        {
          "data": {
            "image/png": "[encoded data removed]",
            "text/plain": [
              "<Figure size 100x100 with 1 Axes>"
            ]
          },
          "metadata": {},
          "output_type": "display_data"
        },
        {
          "data": {
            "image/png": "[encoded data removed]",
            "text/plain": [
              "<Figure size 100x100 with 1 Axes>"
            ]
          },
          "metadata": {},
          "output_type": "display_data"
        }
      ],
      "source": [
        "means = [stacks[i].float().mean(0) for i in range(10)]\n",
        "[show_image(o) for o in means]"
      ]
    },
    {
      "attachments": {},
      "cell_type": "markdown",
      "metadata": {
        "id": "3n3WzsMHQBqV"
      },
      "source": [
        "Now we test the accuracy of the distance-to-mean model.\n",
        "First, we unpack the validation set data in the same way as we did for the training data."
      ]
    },
    {
      "cell_type": "code",
      "execution_count": 68,
      "metadata": {
        "id": "dSoMmVxKQBqV"
      },
      "outputs": [],
      "source": [
        "#An ordinary Python list of pyTorch tensors, with the validation images for digit i in the ith index.\n",
        "valids = [torch.stack([tensor(Image.open(o)) \n",
        "                            for o in (path/'testing'/str(i)).ls()]) for i in range(10)]\n",
        "valids = [o.float()/255 for o in valids]"
      ]
    },
    {
      "attachments": {},
      "cell_type": "markdown",
      "metadata": {},
      "source": [
        "This just measures the L1 distance between two tensors."
      ]
    },
    {
      "cell_type": "code",
      "execution_count": 69,
      "metadata": {
        "id": "Ngwi_QoFQBqW"
      },
      "outputs": [],
      "source": [
        "def mnist_distance(a,b): return (a-b).abs().mean((-1,-2))"
      ]
    },
    {
      "attachments": {},
      "cell_type": "markdown",
      "metadata": {},
      "source": [
        "The funciton `mnist_distance_list` computes the distance of its input from each of the ten mean digits.\n",
        "The function `which_is_it` returns the digit with the least distance to its input."
      ]
    },
    {
      "cell_type": "code",
      "execution_count": 70,
      "metadata": {
        "id": "NxbPZyHBQBqX"
      },
      "outputs": [],
      "source": [
        "def mnist_distance_list(x):\n",
        "  dists = [mnist_distance(x,means[i]) for i in range(10)]\n",
        "  return torch.stack(dists)\n",
        "\n",
        "def which_is_it(x):\n",
        "  return torch.argmin(mnist_distance_list(x),dim=0)\n"
      ]
    },
    {
      "attachments": {},
      "cell_type": "markdown",
      "metadata": {
        "id": "ANQgvbMZQBqX"
      },
      "source": [
        "Let's test it on an example case:"
      ]
    },
    {
      "cell_type": "code",
      "execution_count": 71,
      "metadata": {
        "colab": {
          "base_uri": "https://localhost:8080/",
          "height": 137
        },
        "id": "3A6220DCQBqX",
        "outputId": "ea90f834-8889-41dd-d67b-f1faf02d2d70"
      },
      "outputs": [
        {
          "data": {
            "text/plain": [
              "(tensor([0.1919, 0.1139, 0.1667, 0.1233, 0.1551, 0.1351, 0.1632, 0.1476, 0.1493, 0.1453]),\n",
              " tensor(1),\n",
              " <AxesSubplot: >)"
            ]
          },
          "execution_count": 71,
          "metadata": {},
          "output_type": "execute_result"
        },
        {
          "data": {
            "image/png": "[encoded data removed]",
            "text/plain": [
              "<Figure size 100x100 with 1 Axes>"
            ]
          },
          "metadata": {},
          "output_type": "display_data"
        }
      ],
      "source": [
        "a_3 = stacks[3][2007]\n",
        "mnist_distance_list(a_3), which_is_it(a_3), show_image(a_3)"
      ]
    },
    {
      "attachments": {},
      "cell_type": "markdown",
      "metadata": {},
      "source": [
        "The classifier incorrectly classifies this 3 as a 1, although 3 is the second guess of our classifier."
      ]
    },
    {
      "attachments": {},
      "cell_type": "markdown",
      "metadata": {},
      "source": [
        "The following couple of cells are basically to test to make sure that `which_is_it` broadcasts correctly with respect to how our validation data are organized."
      ]
    },
    {
      "cell_type": "code",
      "execution_count": 72,
      "metadata": {
        "colab": {
          "base_uri": "https://localhost:8080/"
        },
        "id": "ibe901Icfp_q",
        "outputId": "92287bda-13fc-40ba-cca1-a3896f5437d1"
      },
      "outputs": [
        {
          "data": {
            "text/plain": [
              "(tensor([0.1783, 0.1153, 0.1520, 0.1144, 0.1579, 0.1366, 0.1683, 0.1565, 0.1416, 0.1568]),\n",
              " tensor([0.1692, 0.1246, 0.1621, 0.1234, 0.1649, 0.1344, 0.1612, 0.1602, 0.1557, 0.1616]),\n",
              " tensor([[0.1783, 0.1692],\n",
              "         [0.1153, 0.1246],\n",
              "         [0.1520, 0.1621],\n",
              "         [0.1144, 0.1234],\n",
              "         [0.1579, 0.1649],\n",
              "         [0.1366, 0.1344],\n",
              "         [0.1683, 0.1612],\n",
              "         [0.1565, 0.1602],\n",
              "         [0.1416, 0.1557],\n",
              "         [0.1568, 0.1616]]))"
            ]
          },
          "execution_count": 72,
          "metadata": {},
          "output_type": "execute_result"
        }
      ],
      "source": [
        "small_test = stacks[3][0:2]\n",
        "small_test.shape\n",
        "mnist_distance_list(small_test[0]), mnist_distance_list(small_test[1]),mnist_distance_list(small_test)\n"
      ]
    },
    {
      "cell_type": "code",
      "execution_count": 73,
      "metadata": {
        "colab": {
          "base_uri": "https://localhost:8080/"
        },
        "id": "KfBo-Q0khqTn",
        "outputId": "693e566e-cb4e-4b2a-e1dd-0e1329b5085d"
      },
      "outputs": [
        {
          "data": {
            "text/plain": [
              "(tensor(3), tensor(3), tensor([3, 3]), tensor([True, True]))"
            ]
          },
          "execution_count": 73,
          "metadata": {},
          "output_type": "execute_result"
        }
      ],
      "source": [
        "which_is_it(small_test[0]),which_is_it(small_test[1]), which_is_it(small_test), which_is_it(small_test)==3"
      ]
    },
    {
      "attachments": {},
      "cell_type": "markdown",
      "metadata": {},
      "source": [
        "We see that the classifier correctly identifies both of the images as 3s, and `which_is_it`, when given a list of images, produces a rank 1 tensor whose entries are `which_is_it` applied elementwise."
      ]
    },
    {
      "attachments": {},
      "cell_type": "markdown",
      "metadata": {},
      "source": [
        "Here, we compute the digit-by-digit accuracies, and then the overall accuracy, which is 67%, which will be our baseline for comparison."
      ]
    },
    {
      "cell_type": "code",
      "execution_count": 74,
      "metadata": {
        "colab": {
          "base_uri": "https://localhost:8080/"
        },
        "id": "PbUTmt11fkcY",
        "outputId": "4d3bca3d-28a4-4caf-ecc9-02102acb8c8b"
      },
      "outputs": [
        {
          "data": {
            "text/plain": [
              "([tensor(0.8153),\n",
              "  tensor(0.9982),\n",
              "  tensor(0.4234),\n",
              "  tensor(0.6089),\n",
              "  tensor(0.6680),\n",
              "  tensor(0.3262),\n",
              "  tensor(0.7871),\n",
              "  tensor(0.7646),\n",
              "  tensor(0.4425),\n",
              "  tensor(0.7760)],\n",
              " tensor(0.6685))"
            ]
          },
          "execution_count": 74,
          "metadata": {},
          "output_type": "execute_result"
        }
      ],
      "source": [
        "accuracies = [(which_is_it(valids[i])==i).float().mean() for i in range(10)]\n",
        "overall_accuracy = tensor([accuracies[i]*len(valids[i]) for i in range(10)])\n",
        "overall_accuracy = overall_accuracy.sum()/10000.\n",
        "accuracies, overall_accuracy"
      ]
    },
    {
      "attachments": {},
      "cell_type": "markdown",
      "metadata": {
        "id": "FH8p4PPdQBqx"
      },
      "source": [
        "# The Linear Model"
      ]
    },
    {
      "attachments": {},
      "cell_type": "markdown",
      "metadata": {},
      "source": [
        "Here, we put all of the images into single vectors, instead of 28-by-28 arrays. This is for ease of manipulation of the data."
      ]
    },
    {
      "cell_type": "code",
      "execution_count": 75,
      "metadata": {
        "colab": {
          "base_uri": "https://localhost:8080/"
        },
        "id": "Ky3u574aQBqy",
        "outputId": "faedaec1-9d48-4916-fdf5-d25148afcdfb"
      },
      "outputs": [
        {
          "data": {
            "text/plain": [
              "torch.Size([60000, 784])"
            ]
          },
          "execution_count": 75,
          "metadata": {},
          "output_type": "execute_result"
        }
      ],
      "source": [
        "train_x = torch.cat([stacks[i] for i in range(10)]).view(-1, 28*28)\n",
        "train_x.shape"
      ]
    },
    {
      "attachments": {},
      "cell_type": "markdown",
      "metadata": {},
      "source": [
        "We put together a list of classifications for the training data."
      ]
    },
    {
      "cell_type": "code",
      "execution_count": 76,
      "metadata": {
        "colab": {
          "base_uri": "https://localhost:8080/"
        },
        "id": "52tPhor4QBqy",
        "outputId": "c8b98708-7585-4786-a127-3967622f212c"
      },
      "outputs": [
        {
          "data": {
            "text/plain": [
              "(torch.Size([60000, 784]), torch.Size([60000]))"
            ]
          },
          "execution_count": 76,
          "metadata": {},
          "output_type": "execute_result"
        }
      ],
      "source": [
        "train_y = tensor([])\n",
        "for i in range (10):\n",
        "  add = torch.stack([tensor([i]) for j in range(len(nums[i]))])\n",
        "  train_y=torch.cat((train_y,add),0)\n",
        "train_y= train_y.squeeze()\n",
        "train_x.shape, train_y.shape"
      ]
    },
    {
      "cell_type": "code",
      "execution_count": 77,
      "metadata": {
        "colab": {
          "base_uri": "https://localhost:8080/"
        },
        "id": "gwCb8avYQBqy",
        "outputId": "27d3e5e2-8a89-4429-f607-1edd1c38b384"
      },
      "outputs": [
        {
          "data": {
            "text/plain": [
              "(torch.Size([784]), tensor(0.))"
            ]
          },
          "execution_count": 77,
          "metadata": {},
          "output_type": "execute_result"
        }
      ],
      "source": [
        "dset = list(zip(train_x,train_y))\n",
        "x,y = dset[0]\n",
        "x.shape,y"
      ]
    },
    {
      "attachments": {},
      "cell_type": "markdown",
      "metadata": {},
      "source": [
        "We do the same for the validation data:"
      ]
    },
    {
      "cell_type": "code",
      "execution_count": 78,
      "metadata": {
        "id": "61EPBvReQBqy"
      },
      "outputs": [],
      "source": [
        "valid_x = torch.cat([valids[i] for i in range(10)]).view(-1, 28*28)\n",
        "valid_y = tensor([])\n",
        "for i in range(10):\n",
        "  add=torch.stack([tensor([i]) for j in range(len(valids[i]))])\n",
        "  valid_y =torch.cat((valid_y,add),0)\n",
        "valid_y = valid_y.squeeze()\n",
        "valid_dset = list(zip(valid_x,valid_y))"
      ]
    },
    {
      "cell_type": "code",
      "execution_count": 79,
      "metadata": {
        "colab": {
          "base_uri": "https://localhost:8080/"
        },
        "id": "wdCLncX-tGIO",
        "outputId": "32709116-8f3c-401b-e7a4-32a6a06bbefb"
      },
      "outputs": [
        {
          "data": {
            "text/plain": [
              "(torch.Size([10000, 784]), torch.Size([10000]))"
            ]
          },
          "execution_count": 79,
          "metadata": {},
          "output_type": "execute_result"
        }
      ],
      "source": [
        "valid_x.shape, valid_y.shape"
      ]
    },
    {
      "attachments": {},
      "cell_type": "markdown",
      "metadata": {},
      "source": [
        "We define a function to randomly initialize parameters:"
      ]
    },
    {
      "cell_type": "code",
      "execution_count": 80,
      "metadata": {
        "id": "KwaVBs5hQBqz"
      },
      "outputs": [],
      "source": [
        "def init_params(size, std=1.0): \n",
        "  ungrad = (torch.randn(size)*std).squeeze()\n",
        "  return ungrad.requires_grad_()"
      ]
    },
    {
      "cell_type": "code",
      "execution_count": 81,
      "metadata": {
        "colab": {
          "base_uri": "https://localhost:8080/"
        },
        "id": "4keWIx-yQBqz",
        "outputId": "cae09f80-66b0-46f3-fcb4-e7b272cc0269"
      },
      "outputs": [
        {
          "data": {
            "text/plain": [
              "torch.Size([784, 10])"
            ]
          },
          "execution_count": 81,
          "metadata": {},
          "output_type": "execute_result"
        }
      ],
      "source": [
        "weights = init_params((28*28,10))\n",
        "weights.shape"
      ]
    },
    {
      "cell_type": "code",
      "execution_count": 82,
      "metadata": {
        "colab": {
          "base_uri": "https://localhost:8080/"
        },
        "id": "-0awEgN-QBqz",
        "outputId": "f9b40872-8289-4cb8-f06c-308194e962d2"
      },
      "outputs": [
        {
          "data": {
            "text/plain": [
              "torch.Size([10])"
            ]
          },
          "execution_count": 82,
          "metadata": {},
          "output_type": "execute_result"
        }
      ],
      "source": [
        "bias = init_params((1,10))\n",
        "bias.shape"
      ]
    },
    {
      "attachments": {},
      "cell_type": "markdown",
      "metadata": {},
      "source": [
        "A check to make sure we're sizing the outputs of `init_parameters` correctly."
      ]
    },
    {
      "cell_type": "code",
      "execution_count": 83,
      "metadata": {
        "colab": {
          "base_uri": "https://localhost:8080/"
        },
        "id": "DMXD8F1LQBqz",
        "outputId": "dd724af3-8caf-4f32-c009-102c77270546"
      },
      "outputs": [
        {
          "data": {
            "text/plain": [
              "torch.Size([60000, 10])"
            ]
          },
          "execution_count": 83,
          "metadata": {},
          "output_type": "execute_result"
        }
      ],
      "source": [
        "((train_x.float()@(weights)) + bias).shape"
      ]
    },
    {
      "attachments": {},
      "cell_type": "markdown",
      "metadata": {},
      "source": [
        "The function `linear1` packages `weights` and `bias` together:"
      ]
    },
    {
      "cell_type": "code",
      "execution_count": 84,
      "metadata": {
        "id": "8vVoXXyuQBq0"
      },
      "outputs": [],
      "source": [
        "def linear1(xb): return xb.float()@weights + bias"
      ]
    },
    {
      "attachments": {},
      "cell_type": "markdown",
      "metadata": {},
      "source": [
        "We create a batch to make sure our functions work as expected."
      ]
    },
    {
      "cell_type": "code",
      "execution_count": 86,
      "metadata": {
        "colab": {
          "base_uri": "https://localhost:8080/"
        },
        "id": "BeiMhgJG7NwZ",
        "outputId": "71508125-be77-4808-ef58-58c093226c16"
      },
      "outputs": [
        {
          "data": {
            "text/plain": [
              "(torch.Size([60000]), tensor([0, 0, 0,  ..., 8, 8, 0]))"
            ]
          },
          "execution_count": 86,
          "metadata": {},
          "output_type": "execute_result"
        }
      ],
      "source": [
        "preds_log_prob = linear1(train_x)\n",
        "preds= torch.argmax(preds_log_prob,1)\n",
        "preds = preds.reshape(60000)\n",
        "preds.shape, preds"
      ]
    },
    {
      "cell_type": "code",
      "execution_count": 87,
      "metadata": {
        "colab": {
          "base_uri": "https://localhost:8080/"
        },
        "id": "8J9YSVujQBq0",
        "outputId": "8e5a26d4-e2db-4379-fc1e-d0e8e0a9cdd6"
      },
      "outputs": [
        {
          "data": {
            "text/plain": [
              "tensor([ True,  True,  True,  ..., False, False, False])"
            ]
          },
          "execution_count": 87,
          "metadata": {},
          "output_type": "execute_result"
        }
      ],
      "source": [
        "corrects = preds.float()==train_y.squeeze()\n",
        "corrects"
      ]
    },
    {
      "attachments": {},
      "cell_type": "markdown",
      "metadata": {},
      "source": [
        "We get a pretty bad accuracy, since our weights were just completely random."
      ]
    },
    {
      "cell_type": "code",
      "execution_count": 88,
      "metadata": {
        "colab": {
          "base_uri": "https://localhost:8080/"
        },
        "id": "FpO9w92rQBq1",
        "outputId": "5f28e688-81e6-4c72-cbc0-d3d4ca4362af"
      },
      "outputs": [
        {
          "data": {
            "text/plain": [
              "0.1610500067472458"
            ]
          },
          "execution_count": 88,
          "metadata": {},
          "output_type": "execute_result"
        }
      ],
      "source": [
        "corrects.float().mean().item()"
      ]
    },
    {
      "attachments": {},
      "cell_type": "markdown",
      "metadata": {},
      "source": [
        "Here finally we introduce the loss function by which we have already discussed (the log of likelihood)."
      ]
    },
    {
      "cell_type": "code",
      "execution_count": 89,
      "metadata": {
        "id": "mRal5UI5QBq3"
      },
      "outputs": [],
      "source": [
        "def mnist_loss(predictions, targets):\n",
        "    targets = targets.long()\n",
        "    losses = F.cross_entropy(predictions,targets.squeeze())\n",
        "    return losses.mean()"
      ]
    },
    {
      "cell_type": "markdown",
      "metadata": {
        "id": "mGqFwtnpQBq3"
      },
      "source": [
        "### SGD and Mini-Batches"
      ]
    },
    {
      "attachments": {},
      "cell_type": "markdown",
      "metadata": {},
      "source": [
        "Re-initialize parameters:"
      ]
    },
    {
      "cell_type": "code",
      "execution_count": 182,
      "metadata": {
        "id": "fZlqdoU5QBq5"
      },
      "outputs": [],
      "source": [
        "weights = init_params((28*28,10))\n",
        "bias = init_params(10)"
      ]
    },
    {
      "attachments": {},
      "cell_type": "markdown",
      "metadata": {},
      "source": [
        "Create a `DataLoader` from our test data. This is the least \"from scratch\" part of our undertaking."
      ]
    },
    {
      "cell_type": "code",
      "execution_count": 91,
      "metadata": {
        "colab": {
          "base_uri": "https://localhost:8080/"
        },
        "id": "_50AZ4xfQBq5",
        "outputId": "93c207a5-4014-4361-e388-9f2f25a416fc"
      },
      "outputs": [
        {
          "data": {
            "text/plain": [
              "(torch.Size([256, 784]), torch.Size([256]))"
            ]
          },
          "execution_count": 91,
          "metadata": {},
          "output_type": "execute_result"
        }
      ],
      "source": [
        "dl = DataLoader(dset, batch_size=256)\n",
        "xb,yb = first(dl)\n",
        "xb.shape,yb.shape"
      ]
    },
    {
      "cell_type": "code",
      "execution_count": 92,
      "metadata": {
        "id": "wXERKBNyQBq5"
      },
      "outputs": [],
      "source": [
        "valid_dl = DataLoader(valid_dset, batch_size=256)"
      ]
    },
    {
      "attachments": {},
      "cell_type": "markdown",
      "metadata": {},
      "source": [
        "We make a small subset of the training data to make sure the functions are working the right way."
      ]
    },
    {
      "cell_type": "code",
      "execution_count": 93,
      "metadata": {
        "colab": {
          "base_uri": "https://localhost:8080/"
        },
        "id": "8wuKP8R3QBq6",
        "outputId": "fd511772-f0c9-4f73-d67d-68d05c5c6031"
      },
      "outputs": [
        {
          "data": {
            "text/plain": [
              "(torch.Size([4, 784]), torch.Size([4]))"
            ]
          },
          "execution_count": 93,
          "metadata": {},
          "output_type": "execute_result"
        }
      ],
      "source": [
        "batch = train_x[:4]\n",
        "batch.shape, train_y[:4].shape"
      ]
    },
    {
      "attachments": {},
      "cell_type": "markdown",
      "metadata": {},
      "source": [
        "We can read off from `preds` that the model predicts digits (0,7,0,9) for the four images in batch. This will explain the .5 accuracy that we compute below."
      ]
    },
    {
      "cell_type": "code",
      "execution_count": 94,
      "metadata": {
        "colab": {
          "base_uri": "https://localhost:8080/"
        },
        "id": "_oxnFizxQBq6",
        "outputId": "9da2dfbb-b39f-4962-97fd-cff6a713876f"
      },
      "outputs": [
        {
          "data": {
            "text/plain": [
              "(tensor([[ 15.1205, -17.4561,   1.0612,  -7.9669,  -7.6242,   3.3798, -23.8781, -13.1161,   7.8836,   4.6135],\n",
              "         [  2.9981,  -8.6182, -11.9235, -10.0922,   0.3654,   1.5978,  -9.6981,  13.6491,   0.2252,  -2.6899],\n",
              "         [ 18.6683, -15.5988,  -0.7190,  -9.8376,  -9.9725,   1.7350, -20.1133, -12.2211,  15.1338,   3.8342],\n",
              "         [  8.4809,  -5.4655,   5.2217,   3.3916,  -4.6596,   5.9768, -20.8959, -12.0383,  -2.2892,  19.1940]], grad_fn=<AddBackward0>),\n",
              " tensor([0., 0., 0., 0.]))"
            ]
          },
          "execution_count": 94,
          "metadata": {},
          "output_type": "execute_result"
        }
      ],
      "source": [
        "preds = linear1(batch)\n",
        "preds, train_y[:4]"
      ]
    },
    {
      "attachments": {},
      "cell_type": "markdown",
      "metadata": {},
      "source": [
        "The following few cells contain almost no changes from the corresponding ones in the book."
      ]
    },
    {
      "cell_type": "code",
      "execution_count": 97,
      "metadata": {
        "id": "f2K4m_doQBq6"
      },
      "outputs": [],
      "source": [
        "def calc_grad(xb, yb, model):\n",
        "    preds = model(xb)\n",
        "    loss = mnist_loss(preds, yb)\n",
        "    loss.backward()"
      ]
    },
    {
      "cell_type": "code",
      "execution_count": 99,
      "metadata": {
        "id": "bvIdmC-EQBq7"
      },
      "outputs": [],
      "source": [
        "def train_epoch(model, lr, params):\n",
        "    for xb,yb in dl:\n",
        "        calc_grad(xb, yb, model)\n",
        "        for p in params:\n",
        "            p.data -= p.grad*lr\n",
        "            p.grad.zero_()"
      ]
    },
    {
      "cell_type": "code",
      "execution_count": 100,
      "metadata": {
        "id": "O53HIARRQBq8"
      },
      "outputs": [],
      "source": [
        "def batch_accuracy(xb, yb):\n",
        "    preds = torch.argmax(xb,dim=1).squeeze()\n",
        "    correct = preds.float() == yb.float().squeeze()\n",
        "    return correct.float().mean()"
      ]
    },
    {
      "attachments": {},
      "cell_type": "markdown",
      "metadata": {
        "id": "9HtGx27CQBq8"
      },
      "source": [
        "We can check it works (recall that we computed a 50% accuracy earlier):"
      ]
    },
    {
      "cell_type": "code",
      "execution_count": 101,
      "metadata": {
        "colab": {
          "base_uri": "https://localhost:8080/"
        },
        "id": "4LGuxABuQBq8",
        "outputId": "ee04bec7-d92d-4b6a-f2bd-40823bbbb724"
      },
      "outputs": [
        {
          "data": {
            "text/plain": [
              "tensor(0.5000)"
            ]
          },
          "execution_count": 101,
          "metadata": {},
          "output_type": "execute_result"
        }
      ],
      "source": [
        "batch_accuracy(linear1(batch), train_y[:4])"
      ]
    },
    {
      "cell_type": "markdown",
      "metadata": {
        "id": "MiLLhSQsQBq8"
      },
      "source": [
        "and then put the batches together:"
      ]
    },
    {
      "cell_type": "code",
      "execution_count": 102,
      "metadata": {
        "id": "RyeRzpAWQBq8"
      },
      "outputs": [],
      "source": [
        "def validate_epoch(model):\n",
        "    accs = [batch_accuracy(model(xb), yb) for xb,yb in valid_dl]\n",
        "    return round(torch.stack(accs).mean().item(), 4)"
      ]
    },
    {
      "cell_type": "code",
      "execution_count": 103,
      "metadata": {
        "colab": {
          "base_uri": "https://localhost:8080/"
        },
        "id": "3zYBQlk-QBq8",
        "outputId": "d54f700c-2548-4de8-8bae-fda143ab6ab1"
      },
      "outputs": [
        {
          "data": {
            "text/plain": [
              "0.189"
            ]
          },
          "execution_count": 103,
          "metadata": {},
          "output_type": "execute_result"
        }
      ],
      "source": [
        "validate_epoch(linear1)"
      ]
    },
    {
      "attachments": {},
      "cell_type": "markdown",
      "metadata": {
        "id": "RDpJ7wn5QBq8"
      },
      "source": [
        "After some experimentation, I found that it was useful to train for a bit at a learning rate of .1 to give the model a chance to search the parameter space relatively widely, and then to train for many more epochs at .01."
      ]
    },
    {
      "cell_type": "code",
      "execution_count": 183,
      "metadata": {
        "colab": {
          "base_uri": "https://localhost:8080/"
        },
        "id": "ijVa4b_GQBq8",
        "outputId": "0904bfc2-36dc-4eb4-efa4-34ea958762ef"
      },
      "outputs": [
        {
          "data": {
            "text/plain": [
              "0.1512"
            ]
          },
          "execution_count": 183,
          "metadata": {},
          "output_type": "execute_result"
        }
      ],
      "source": [
        "lr = .1\n",
        "params = weights,bias\n",
        "train_epoch(linear1, lr, params)\n",
        "validate_epoch(linear1)"
      ]
    },
    {
      "cell_type": "code",
      "execution_count": 184,
      "metadata": {
        "colab": {
          "base_uri": "https://localhost:8080/"
        },
        "id": "xj0zXQd-QBq9",
        "outputId": "00e17cd5-1541-47aa-dc77-5fe540e07103"
      },
      "outputs": [
        {
          "name": "stdout",
          "output_type": "stream",
          "text": [
            "0.6648\n",
            "0.716\n",
            "0.7333\n",
            "0.7397\n",
            "0.744\n",
            "0.7475\n",
            "0.7491\n",
            "0.7516\n"
          ]
        }
      ],
      "source": [
        "for i in range(120):\n",
        "    train_epoch(linear1, lr, params)\n",
        "    if (i+1)%15==0:\n",
        "        print(validate_epoch(linear1), end='\\n')"
      ]
    },
    {
      "cell_type": "code",
      "execution_count": 185,
      "metadata": {},
      "outputs": [
        {
          "name": "stdout",
          "output_type": "stream",
          "text": [
            "0.8886\n",
            "0.8926\n",
            "0.8951\n",
            "0.8958\n",
            "0.8965\n",
            "0.8979\n",
            "0.8981\n",
            "0.8989\n",
            "0.8995\n",
            "0.8998\n",
            "0.9003\n",
            "0.9005\n",
            "0.9009\n",
            "0.9009\n"
          ]
        }
      ],
      "source": [
        "for i in range(210):\n",
        "    train_epoch(linear1, lr=.01, params=params)\n",
        "    if (i+1)%15==0:\n",
        "        print(validate_epoch(linear1), end='\\n')"
      ]
    },
    {
      "attachments": {},
      "cell_type": "markdown",
      "metadata": {},
      "source": [
        "Not bad: 90%"
      ]
    },
    {
      "attachments": {},
      "cell_type": "markdown",
      "metadata": {},
      "source": [
        "# A Simple Neural Net"
      ]
    },
    {
      "attachments": {},
      "cell_type": "markdown",
      "metadata": {},
      "source": [
        "Now we turn to the simple neural-net model. It has a linear layer, followed by a RELU layer, followed by a linear layer.\n",
        "The model is almost identical to the original one, except that we need 10 ouputs from the final layer to give our ten probabilities for the ten digits.\n",
        "As for the linear model, it made sense to train for a bit with a higher learning rate to get \"in the general ballpark\", and then to tamp down the learning rate for the fine-tuning.\n",
        "There is a substantial improvement in the accuracy when we switch to the lower learning rate, and then steady but small gains in each epoch.\n",
        "Notice also that we train for many more epochs for the neural net because there are many more parameters to tune."
      ]
    },
    {
      "cell_type": "code",
      "execution_count": 106,
      "metadata": {},
      "outputs": [],
      "source": [
        "def simple_net(xb): \n",
        "    res = xb@w1 + b1\n",
        "    res = res.max(tensor(0.0))\n",
        "    res = res@w2 + b2\n",
        "    return res"
      ]
    },
    {
      "cell_type": "code",
      "execution_count": 186,
      "metadata": {},
      "outputs": [],
      "source": [
        "w1 = init_params((28*28,30))\n",
        "b1 = init_params(30)\n",
        "w2 = init_params((30,10))\n",
        "b2 = init_params(10)"
      ]
    },
    {
      "cell_type": "code",
      "execution_count": 187,
      "metadata": {},
      "outputs": [
        {
          "name": "stdout",
          "output_type": "stream",
          "text": [
            "0.3006\n",
            "0.3268\n",
            "0.3543\n",
            "0.3865\n",
            "0.4399\n",
            "0.5045\n",
            "0.5327\n",
            "0.5451\n",
            "0.5581\n",
            "0.5689\n",
            "0.5795\n",
            "0.5942\n",
            "0.6057\n",
            "0.6154\n",
            "0.6221\n",
            "0.6309\n",
            "0.6379\n",
            "0.6435\n",
            "0.6496\n",
            "0.6565\n",
            "0.6628\n",
            "0.6702\n",
            "0.6772\n",
            "0.6831\n",
            "0.6895\n",
            "0.6943\n",
            "0.6983\n",
            "0.7035\n"
          ]
        }
      ],
      "source": [
        "for i in range(420):\n",
        "  train_epoch(simple_net, lr=.1, params=(w1,b1,w2,b2))\n",
        "  if (i+1)%15==0:\n",
        "    print(validate_epoch(simple_net), end='\\n')"
      ]
    },
    {
      "attachments": {},
      "cell_type": "markdown",
      "metadata": {},
      "source": [
        "Let's set it to train for 780 epochs, go have lunch, and then come back:"
      ]
    },
    {
      "cell_type": "code",
      "execution_count": 188,
      "metadata": {},
      "outputs": [
        {
          "name": "stdout",
          "output_type": "stream",
          "text": [
            "0.9082\n",
            "0.9089\n",
            "0.9093\n",
            "0.9096\n",
            "0.9099\n",
            "0.9103\n",
            "0.9103\n",
            "0.9106\n",
            "0.9114\n",
            "0.912\n",
            "0.9125\n",
            "0.9124\n",
            "0.9129\n",
            "0.9132\n",
            "0.9134\n",
            "0.9141\n",
            "0.9142\n",
            "0.9145\n",
            "0.9147\n",
            "0.9147\n",
            "0.9154\n",
            "0.9156\n",
            "0.9159\n",
            "0.9161\n",
            "0.9165\n",
            "0.9169\n",
            "0.9174\n",
            "0.9177\n",
            "0.9183\n",
            "0.9186\n",
            "0.9187\n",
            "0.9193\n",
            "0.9196\n",
            "0.92\n",
            "0.9201\n",
            "0.9206\n",
            "0.921\n",
            "0.9216\n",
            "0.9219\n",
            "0.922\n",
            "0.922\n",
            "0.9224\n",
            "0.9228\n",
            "0.9226\n",
            "0.9229\n",
            "0.9249\n",
            "0.9249\n",
            "0.9254\n",
            "0.9256\n",
            "0.9254\n",
            "0.9258\n",
            "0.9263\n"
          ]
        }
      ],
      "source": [
        "for i in range(780):\n",
        "  train_epoch(simple_net, lr=.01, params=(w1,b1,w2,b2))\n",
        "  if (i+1)%15==0:\n",
        "    print(validate_epoch(simple_net), end='\\n')"
      ]
    },
    {
      "attachments": {},
      "cell_type": "markdown",
      "metadata": {},
      "source": [
        "Our final accuracy with the simple neural-net is pretty good: 93% almost!"
      ]
    }
  ],
  "metadata": {
    "accelerator": "GPU",
    "colab": {
      "collapsed_sections": [
        "VMuq6fH_QBq9"
      ],
      "provenance": [],
      "toc_visible": true
    },
    "gpuClass": "standard",
    "jupytext": {
      "split_at_heading": true
    },
    "kernelspec": {
      "display_name": "Python 3",
      "language": "python",
      "name": "python3"
    },
    "language_info": {
      "codemirror_mode": {
        "name": "ipython",
        "version": 3
      },
      "file_extension": ".py",
      "mimetype": "text/x-python",
      "name": "python",
      "nbconvert_exporter": "python",
      "pygments_lexer": "ipython3",
      "version": "3.9.1 (default, Dec  8 2022, 23:28:44) \n[Clang 14.0.0 (clang-1400.0.29.202)]"
    },
    "vscode": {
      "interpreter": {
        "hash": "0a8e34c57962ce6bf1e33c3f3958ccc945ca384e8e7dc63bc5afc985fec9893a"
      }
    }
  },
  "nbformat": 4,
  "nbformat_minor": 0
}
